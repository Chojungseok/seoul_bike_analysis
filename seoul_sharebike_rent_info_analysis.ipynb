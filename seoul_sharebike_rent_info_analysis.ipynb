{
 "cells": [
  {
   "cell_type": "code",
   "execution_count": 1,
   "metadata": {},
   "outputs": [],
   "source": [
    "import requests, json\n",
    "from api_key import Seoul_api"
   ]
  },
  {
   "cell_type": "code",
   "execution_count": 2,
   "metadata": {},
   "outputs": [
    {
     "name": "stdout",
     "output_type": "stream",
     "text": [
      "1000\n",
      "2000\n"
     ]
    }
   ],
   "source": [
    "total = []\n",
    "key = Seoul_api\n",
    "start = 1\n",
    "end = 1000 \n",
    "while True:\n",
    "    url = f'http://openapi.seoul.go.kr:8088/{key}/json/bikeList/{start}/{end}/'\n",
    "    response = requests.get(url)\n",
    "    result = response.content\n",
    "    result = json.loads(result.decode('utf-8'))\n",
    "    result = result['rentBikeStatus']['row']\n",
    "    for i in result:\n",
    "        total.append(i)\n",
    "    if len(result) >= 1000:\n",
    "        start += 1000\n",
    "        end += 1000\n",
    "    else:\n",
    "        break\n",
    "    print(len(total))"
   ]
  },
  {
   "cell_type": "code",
   "execution_count": 3,
   "metadata": {},
   "outputs": [
    {
     "data": {
      "text/plain": [
       "2712"
      ]
     },
     "execution_count": 3,
     "metadata": {},
     "output_type": "execute_result"
    }
   ],
   "source": [
    "len(total)"
   ]
  },
  {
   "cell_type": "code",
   "execution_count": null,
   "metadata": {},
   "outputs": [],
   "source": []
  }
 ],
 "metadata": {
  "kernelspec": {
   "display_name": "venv",
   "language": "python",
   "name": "python3"
  },
  "language_info": {
   "codemirror_mode": {
    "name": "ipython",
    "version": 3
   },
   "file_extension": ".py",
   "mimetype": "text/x-python",
   "name": "python",
   "nbconvert_exporter": "python",
   "pygments_lexer": "ipython3",
   "version": "3.13.2"
  }
 },
 "nbformat": 4,
 "nbformat_minor": 2
}
